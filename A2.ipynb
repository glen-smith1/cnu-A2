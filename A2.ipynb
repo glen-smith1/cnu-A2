{
 "cells": [
  {
   "cell_type": "markdown",
   "metadata": {},
   "source": [
    "# Assignment A2 [40 marks]\n",
    "\n",
    "The assignment consists of 3 exercises. Each exercise may contain coding and/or discussion questions.\n",
    "- Type your **code** in the **code cells** provided below each question.\n",
    "- For **discussion** questions, use the **Markdown cells** provided below each question, indicated by 📝. Double-click these cells to edit them, and run them to display your Markdown-formatted text. Please refer to the Week 1 tutorial notebook for Markdown syntax."
   ]
  },
  {
   "cell_type": "markdown",
   "metadata": {},
   "source": [
    "---\n",
    "## Question 1: Numerical Differentiation [10 marks]\n",
    "\n",
    "A general $N$-point finite difference approximation of the derivative $F' \\left( x \\right)$ of a sufficiently smooth function $F \\left( x \\right)$ can be written as\n",
    "\n",
    "$$\n",
    "F' \\left( x \\right) \\approx \\frac{1}{\\Delta x} \\sum_{i = 1}^N \\alpha_i F \\left( x + \\beta_i \\Delta x \\right),\n",
    "\\qquad \\qquad \\qquad (1)\n",
    "$$\n",
    "\n",
    "with step size $\\Delta x > 0$, and $\\alpha_i, \\beta_i \\in \\mathbb{Q}$, with $\\beta_i \\neq \\beta_j$ for $i\\neq j$. For example, the centred difference approximation $D_C(x)$ seen in the course has $N = 2$, and\n",
    "\n",
    "$$\n",
    "\\begin{cases}\n",
    "\\alpha_1 = \\frac{1}{2}, &\\alpha_2 = -\\frac{1}{2}, \\\\\n",
    "\\beta_1 = 1, &\\beta_2 = -1,\n",
    "\\end{cases}\n",
    "\\qquad\n",
    "\\text{giving} \\quad\n",
    "F'(x) \\approx \\frac{1}{2\\Delta x} \\left(F\\left(x + \\Delta x\\right) - F\\left(x - \\Delta x\\right)\\right).\n",
    "$$\n",
    "\n",
    "**1.1** Consider another finite difference approximation defined as in $(1)$, this time with $N=3$, and\n",
    "\n",
    "$$\n",
    "\\begin{cases}\n",
    "\\alpha_1 = -\\frac{4}{23}, &\\alpha_2 = -\\frac{9}{17}, &\\alpha_3 = \\frac{275}{391} \\\\\n",
    "\\beta_1 = -\\frac{3}{2}, &\\beta_2 = -\\frac{1}{3}, &\\beta_2 = \\frac{4}{5}\n",
    "\\end{cases}.\n",
    "$$\n",
    "\n",
    "Investigate the accuracy of this approximation.\n",
    "\n",
    "**[5 marks]**"
   ]
  },
  {
   "cell_type": "code",
   "execution_count": 78,
   "metadata": {},
   "outputs": [
    {
     "name": "stdout",
     "output_type": "stream",
     "text": [
      "log(error) = 1.999004920145333\n"
     ]
    },
    {
     "data": {
      "image/png": "[encoded data removed]",
      "text/plain": [
       "<Figure size 432x288 with 1 Axes>"
      ]
     },
     "metadata": {},
     "output_type": "display_data"
    },
    {
     "name": "stdout",
     "output_type": "stream",
     "text": [
      "The log of the error is approximately proportional to 2 times the log of the step size\n",
      "This means the approximation is second order accurate.\n"
     ]
    }
   ],
   "source": [
    "import numpy as np #(Inspired from tutorial 7)\n",
    "import matplotlib.pyplot as plt\n",
    "\n",
    "def F(x): #function for F'(x)\n",
    "    return np.exp(-x ** 2)\n",
    " #I choose to use function e^(-x) to investigate accuracy\n",
    "def F_Derivative(x): #function for F'(x)\n",
    "    return -2.0 * (x) * F(x)\n",
    "\n",
    "# Our given values, and range of step sizes\n",
    "x = 0.5\n",
    "dx = np.array([0.04, 0.02, 0.01, 0.005])\n",
    "a1 = -4/23\n",
    "b1 = -3/2\n",
    "a2 = -9/17\n",
    "b2 = -1/3\n",
    "a3 = 275/391\n",
    "b3 = 4/5\n",
    "\n",
    "# Calculate the FD approximation for all step sizes at once\n",
    "F_Derivative_approx = (1/dx)*(a1 * F(x+(b1*dx)) + a2 * F(x+(b2*dx)) + a3*F(x+(b3*dx)))\n",
    "\n",
    "# Calculate the absolute error\n",
    "F_Derivative_error = np.abs(F_Derivative_approx - F_Derivative(x))\n",
    "\n",
    "# Plot the results in log-log scale\n",
    "fig, ax = plt.subplots()\n",
    "ax.plot(np.log(dx), np.log(F_Derivative_error), \"kx\")\n",
    "\n",
    "# Label the plot\n",
    "ax.set(xlabel=\"$\\log(\\Delta x)$\", ylabel=\"Log error magnitude\", title=\"Centred difference (derivative)\")\n",
    "\n",
    "# Compute and print the slope of the line\n",
    "print('log(error) =',np.polyfit(np.log(dx), np.log(F_Derivative_error), 1)[0])\n",
    "\n",
    "plt.show()\n",
    "print('The log of the error is approximately proportional to 2 times the log of the step size')\n",
    "print('This means the approximation is second order accurate.')"
   ]
  },
  {
   "cell_type": "markdown",
   "metadata": {},
   "source": [
    "**1.2** For an arbitrary choice of $\\beta_i$ values, what is the minimum number of points $N_{p}$ required to find an approximation $(1)$ which is at least $p$th order accurate?\n",
    "\n",
    "*Hint:* consider the Taylor expansion of $F \\left( x + \\beta_i \\Delta x \\right)$ around $x$.\n",
    "\n",
    "**[3 marks]**"
   ]
  },
  {
   "cell_type": "markdown",
   "metadata": {},
   "source": [
    "***📝 Discussion for question 1.2***"
   ]
  },
  {
   "cell_type": "markdown",
   "metadata": {},
   "source": [
    "**1.3** Using your reasoning from **1.2**, write a function `FD_coefficients()` which, given $N_p$ values $\\beta_i$, returns $N_p$ coefficients $\\alpha_i$ such that the approximation $(1)$ is at least $p$th order accurate.\n",
    "\n",
    "Use your function to obtain the coefficients $\\alpha_i$ from **1.1**.\n",
    "\n",
    "**[2 marks]**\n",
    "\n",
    "\n",
    "The error incurred in approximating a function by its nth-degree Taylor polynomial, is called the remainder or residual and is denoted by the function Rn(x). Taylor’s theorem can be used to obtain a bound on the size of the remainder."
   ]
  },
  {
   "cell_type": "code",
   "execution_count": 79,
   "metadata": {},
   "outputs": [
    {
     "ename": "TypeError",
     "evalue": "'builtin_function_or_method' object is not subscriptable",
     "output_type": "error",
     "traceback": [
      "\u001b[0;31m---------------------------------------------------------------------------\u001b[0m",
      "\u001b[0;31mTypeError\u001b[0m                                 Traceback (most recent call last)",
      "\u001b[0;32m<ipython-input-79-0e78174e79ee>\u001b[0m in \u001b[0;36m<module>\u001b[0;34m\u001b[0m\n\u001b[1;32m     11\u001b[0m \u001b[0;34m\u001b[0m\u001b[0m\n\u001b[1;32m     12\u001b[0m \u001b[0;31m#Result would be a vector so I would present results like this\u001b[0m\u001b[0;34m\u001b[0m\u001b[0;34m\u001b[0m\u001b[0;34m\u001b[0m\u001b[0m\n\u001b[0;32m---> 13\u001b[0;31m \u001b[0mprint\u001b[0m\u001b[0;34m(\u001b[0m\u001b[0;34m'alpha 1 ='\u001b[0m\u001b[0;34m,\u001b[0m \u001b[0mFD_coefficients\u001b[0m\u001b[0;34m(\u001b[0m\u001b[0;34m)\u001b[0m\u001b[0;34m[\u001b[0m\u001b[0;36m0\u001b[0m\u001b[0;34m]\u001b[0m\u001b[0;34m)\u001b[0m\u001b[0;34m\u001b[0m\u001b[0;34m\u001b[0m\u001b[0m\n\u001b[0m\u001b[1;32m     14\u001b[0m \u001b[0mprint\u001b[0m\u001b[0;34m(\u001b[0m\u001b[0;34m'alpha 2 ='\u001b[0m\u001b[0;34m,\u001b[0m \u001b[0mFD_coefficients\u001b[0m\u001b[0;34m(\u001b[0m\u001b[0;34m)\u001b[0m\u001b[0;34m[\u001b[0m\u001b[0;36m1\u001b[0m\u001b[0;34m]\u001b[0m\u001b[0;34m)\u001b[0m\u001b[0;34m\u001b[0m\u001b[0;34m\u001b[0m\u001b[0m\n\u001b[1;32m     15\u001b[0m \u001b[0mprint\u001b[0m\u001b[0;34m(\u001b[0m\u001b[0;34m'alpha 3 ='\u001b[0m\u001b[0;34m,\u001b[0m \u001b[0mFD_coefficients\u001b[0m\u001b[0;34m(\u001b[0m\u001b[0;34m)\u001b[0m\u001b[0;34m[\u001b[0m\u001b[0;36m2\u001b[0m\u001b[0;34m]\u001b[0m\u001b[0;34m)\u001b[0m\u001b[0;34m\u001b[0m\u001b[0;34m\u001b[0m\u001b[0m\n",
      "\u001b[0;32m<ipython-input-79-0e78174e79ee>\u001b[0m in \u001b[0;36mFD_coefficients\u001b[0;34m()\u001b[0m\n\u001b[1;32m      1\u001b[0m \u001b[0;32mdef\u001b[0m  \u001b[0mFD_coefficients\u001b[0m\u001b[0;34m(\u001b[0m\u001b[0;34m)\u001b[0m\u001b[0;34m:\u001b[0m\u001b[0;34m\u001b[0m\u001b[0;34m\u001b[0m\u001b[0m\n\u001b[1;32m      2\u001b[0m \u001b[0;34m\u001b[0m\u001b[0m\n\u001b[0;32m----> 3\u001b[0;31m     \u001b[0msize\u001b[0m\u001b[0;34m=\u001b[0m \u001b[0mlen\u001b[0m\u001b[0;34m[\u001b[0m\u001b[0mBeta\u001b[0m\u001b[0;34m]\u001b[0m\u001b[0;34m\u001b[0m\u001b[0;34m\u001b[0m\u001b[0m\n\u001b[0m\u001b[1;32m      4\u001b[0m     \u001b[0mTaylor\u001b[0m \u001b[0;34m=\u001b[0m \u001b[0mNp\u001b[0m\u001b[0;34m[\u001b[0m\u001b[0mi\u001b[0m\u001b[0;34m]\u001b[0m \u001b[0;34m**\u001b[0m \u001b[0mn\u001b[0m \u001b[0;34m/\u001b[0m \u001b[0mnp\u001b[0m\u001b[0;34m.\u001b[0m\u001b[0mmath\u001b[0m\u001b[0;34m.\u001b[0m\u001b[0mfactorial\u001b[0m\u001b[0;34m(\u001b[0m\u001b[0mn\u001b[0m\u001b[0;34m)\u001b[0m \u001b[0;31m#taylor series\u001b[0m\u001b[0;34m\u001b[0m\u001b[0;34m\u001b[0m\u001b[0m\n\u001b[1;32m      5\u001b[0m \u001b[0;31m#I do not know how to resolve, I know the size is given from the number of elements ub Beta (in this case 3)\u001b[0m\u001b[0;34m\u001b[0m\u001b[0;34m\u001b[0m\u001b[0;34m\u001b[0m\u001b[0m\n",
      "\u001b[0;31mTypeError\u001b[0m: 'builtin_function_or_method' object is not subscriptable"
     ]
    }
   ],
   "source": [
    "def  FD_coefficients():    \n",
    "\n",
    "    size= len[Beta]\n",
    "    Taylor = Np[i] ** n / np.math.factorial(n) #taylor series\n",
    "#I do not know how to resolve, I know the size is given from the number of elements ub Beta (in this case 3) \n",
    "# Then make equations to where i input beta values run through Taylor and can solve for output Alpha\n",
    "    x = np.linalg.solve(A, B) # Solve equation using numpy\n",
    "\n",
    "    return x\n",
    "Beta = np.array([-3/2, -1/3, 4/5]) #Given beta values\n",
    "\n",
    "#Result would be a vector so I would present results like this\n",
    "print('alpha 1 =', FD_coefficients()[0])\n",
    "print('alpha 2 =', FD_coefficients()[1])\n",
    "print('alpha 3 =', FD_coefficients()[2])"
   ]
  },
  {
   "cell_type": "markdown",
   "metadata": {},
   "source": [
    "---\n",
    "## Question 2: Root Finding [10 marks]\n",
    "\n",
    "Consider the following polynomial of cubic order,\n",
    "\n",
    "$$\n",
    "p(z) = z^3 + (c-1)z - c,\n",
    "$$\n",
    "where $c \\in \\mathbb{C}$.\n",
    "\n",
    "This polynomial is complex differentiable, and we can apply Newton's method to find a complex root $z_\\ast$, using a complex initial guess $z_0 = a_0 + ib_0$. In this problem, we seek to map the values of $z_0$ which lead to convergence to a root of $p$.\n",
    "\n",
    "**2.1** Write a function `complex_newton(amin, amax, bmin, bmax, c, N, eps, target_roots)` which implements Newton's method to find roots of $p(z)$ using $N^2$ initial guesses $z_0 = a_0 + ib_0$. The input arguments are as follows:\n",
    "\n",
    "- The real part $a_0$ of the initial guess should take `N` linearly spaced values between `amin` and `amax` (inclusive).\n",
    "- The imaginary part $b_0$ of the initial guess should take `N` linearly spaced values between `bmin` and `bmax` (inclusive).\n",
    "- `c` is the parameter $c \\in \\mathbb{C}$ in $p(z)$.\n",
    "- `eps` is the tolerance $\\varepsilon > 0$.\n",
    "- `target_root` takes one of the following values:\n",
    "    - if `target_root` is given as `None`, then convergence should be considered as achieved if Newton's method has converged to any root of $p$.\n",
    "    - if `target_root` is given as a number, then convergence should only be considered as achieved if Newton's method has converged to the specific root $z_\\ast =$ `target_root`.\n",
    "\n",
    "Your function should return an array `kmax` of size $N \\times N$, containing the total number of iterations required for convergence, for each value of $z_0$. You should decide what to do in case a particular value of $z_0$ doesn't lead to convergence.\n",
    "    \n",
    "Up to 2 marks will be given to solutions which iterate over each value of $z_0$. To obtain up to the full 4 marks, your implementation should be vectorised -- i.e. use a single loop to iterate Newton's method for all values of $z_0$ at once.\n",
    "\n",
    "**[4 marks]**"
   ]
  },
  {
   "cell_type": "code",
   "execution_count": 80,
   "metadata": {},
   "outputs": [],
   "source": [
    "import numpy as np\n",
    "import matplotlib.pyplot as plt\n",
    "\n",
    "def complex_newton(amin, amax, bmin, bmax, c, N, eps, target_roots):\n",
    "\n",
    "    def P(x): #function\n",
    "        return x**3 + (c - 1)* x - c\n",
    "    def dPdx(x): #derivative\n",
    "        return 3 * x ** 2 + (c - 1)\n",
    "\n",
    "\n",
    "        c = 5\n",
    "        accuracy = 1e-10\n",
    "\n",
    "        roots = []\n",
    "\n",
    "        x_points = np.linspace(0.0, 1.0, 200)\n",
    "        y_points = P(x_points)\n",
    "        for rt in roots:\n",
    "            y_points /= (x_points - rt)\n",
    "        y_points = np.array([ max(-1.0,min(1.0,np.real(y))) for y in y_points ])\n",
    "        print(y_points)\n"
   ]
  },
  {
   "cell_type": "markdown",
   "metadata": {},
   "source": [
    "**2.2** For $c = 0$, $a_0 \\in [-5,5]$ and $b_0 \\in [-5,5]$, with at least $N = 200$ values for each (you can increase $N$ if your computer allows it), use your function `complex_newton()` to calculate, for each $z_0 = a_0 + ib_0$, the total number of iterates needed to reach a disk of radius $\\varepsilon$ around the root at $z = 1$. Present your results in a heatmap plot, with $a_0$ on the abscissa, $b_0$ on the ordinate and a colour map showing the total number of iterates. \n",
    "\n",
    "**[3 marks]**"
   ]
  },
  {
   "cell_type": "code",
   "execution_count": 69,
   "metadata": {},
   "outputs": [
    {
     "ename": "NameError",
     "evalue": "name 'complex_newton' is not defined",
     "output_type": "error",
     "traceback": [
      "\u001b[0;31m---------------------------------------------------------------------------\u001b[0m",
      "\u001b[0;31mNameError\u001b[0m                                 Traceback (most recent call last)",
      "\u001b[0;32m<ipython-input-69-9325dcb0215c>\u001b[0m in \u001b[0;36m<module>\u001b[0;34m\u001b[0m\n\u001b[1;32m      1\u001b[0m \u001b[0;32mimport\u001b[0m \u001b[0mseaborn\u001b[0m \u001b[0;32mas\u001b[0m \u001b[0msns\u001b[0m\u001b[0;34m;\u001b[0m \u001b[0msns\u001b[0m\u001b[0;34m.\u001b[0m\u001b[0mset_theme\u001b[0m\u001b[0;34m(\u001b[0m\u001b[0;34m)\u001b[0m\u001b[0;34m\u001b[0m\u001b[0;34m\u001b[0m\u001b[0m\n\u001b[1;32m      2\u001b[0m \u001b[0;34m\u001b[0m\u001b[0m\n\u001b[0;32m----> 3\u001b[0;31m \u001b[0msns_plot\u001b[0m \u001b[0;34m=\u001b[0m \u001b[0msns\u001b[0m\u001b[0;34m.\u001b[0m\u001b[0mheatmap\u001b[0m\u001b[0;34m(\u001b[0m\u001b[0mcomplex_newton\u001b[0m\u001b[0;34m(\u001b[0m\u001b[0;34m-\u001b[0m\u001b[0;36m5\u001b[0m\u001b[0;34m,\u001b[0m \u001b[0;36m5\u001b[0m\u001b[0;34m,\u001b[0m \u001b[0;34m-\u001b[0m\u001b[0;36m5\u001b[0m\u001b[0;34m,\u001b[0m \u001b[0;36m5\u001b[0m\u001b[0;34m,\u001b[0m \u001b[0;36m0\u001b[0m\u001b[0;34m,\u001b[0m \u001b[0;36m200\u001b[0m\u001b[0;34m,\u001b[0m \u001b[0;36m1e-10\u001b[0m\u001b[0;34m,\u001b[0m \u001b[0;32mNone\u001b[0m \u001b[0;34m)\u001b[0m\u001b[0;34m,\u001b[0m \u001b[0mxticklabels\u001b[0m \u001b[0;34m=\u001b[0m \u001b[0;36m25\u001b[0m\u001b[0;34m,\u001b[0m \u001b[0myticklabels\u001b[0m \u001b[0;34m=\u001b[0m \u001b[0;36m25\u001b[0m\u001b[0;34m)\u001b[0m\u001b[0;34m\u001b[0m\u001b[0;34m\u001b[0m\u001b[0m\n\u001b[0m",
      "\u001b[0;31mNameError\u001b[0m: name 'complex_newton' is not defined"
     ]
    }
   ],
   "source": [
    "#Obviously function above I could not properly solve, had it been working I would have plotted heatmap like this\n",
    "import seaborn as sns; sns.set_theme()\n",
    "#Using the complex_newton function and they new properties \n",
    "sns_plot = sns.heatmap(complex_newton(-5, 5, -5, 5, 0, 200, 1e-10, None ), xticklabels = 25, yticklabels = 25)\n"
   ]
  },
  {
   "cell_type": "markdown",
   "metadata": {},
   "source": [
    "**2.3** For $c = 0.32 + 1.64i$, map out the points $z_0$ for which Newton's method does not converge to any root. What does it do instead?\n",
    "\n",
    "*Hint:* Pick a point $z_0$ in a region where Newton's method does not converge and print out, say, 50 iterates. What do you observe?\n",
    "\n",
    "**[3 marks]**"
   ]
  },
  {
   "cell_type": "code",
   "execution_count": null,
   "metadata": {},
   "outputs": [],
   "source": []
  },
  {
   "cell_type": "markdown",
   "metadata": {},
   "source": [
    "***📝 Discussion for question 2.3***\n",
    "Newton's method does not always converge. Its convergence theory is for local convergence which means we should start close to the root or close relative to the specific function we are dealing with.\n",
    "\n",
    "In this case if the function does not converge this means it has no real solution meaning a limit can't exist, so the sequence must either stop or diverge."
   ]
  },
  {
   "cell_type": "markdown",
   "metadata": {},
   "source": [
    "---\n",
    "## Question 3: Numerical Integration of an ODE [20 marks]\n",
    "\n",
    "Cardiac tissue is an example of an excitable medium, where a small stimulus can lead to a large response (a heart beat). The FitzHugh-Nagumo model describes the electrical activity of a single cardiac cell in terms of the transmembrane potential $u$ and a recovery variable $v$\n",
    "\n",
    "\\begin{align}\n",
    "        \\dot u & = f(u,v) = \\frac{1}{\\varepsilon} \\left( u - \\frac{u^3}{3} - v + I \\right) \\ , \\\\\n",
    "        \\dot v & = g(u,v) = \\varepsilon \\left( u - \\gamma v + \\beta \\right) \\ ,\n",
    "\\end{align}\n",
    "\n",
    "where $I$ (a stimulus), $\\varepsilon$, $\\gamma$, and $\\beta$ are known parameters.\n",
    "\n",
    "The equation for $u$ leads to fast dynamics with the possibility of excitation, while the linear term proportional to $-v$ in the equation for the recovery variable produces slower dynamics and negative feedback. The FitzHugh-Nagumo model is an example of a stiff differential equation, where the stiffness becomes more pronounced for smaller $\\varepsilon$.\n",
    "\n",
    "In questions **3.1**, **3.2**, and **3.3**, we take $\\varepsilon = 0.2$, $\\gamma = 0.8$, and $\\beta = 0.7$.\n",
    "\n",
    "\n",
    "**3.1** The fixed points, defined by $\\dot u = f(u, v) = 0$ and $\\dot v = g(u, v) = 0$, correspond to the state of a cell at rest. Write a function `resting_state()` to determine the values $(u_I^*, v_I^*)$ for the cell in its resting state for a given value of $I$ and a given initial guess $(u_{I, 0}, v_{I, 0})$, using Newton's method.\n",
    "\n",
    "Use your function to compute $(u_I^*, v_I^*)$ for $I=0$ and $I = 0.5$, with initial guess $(u_{I, 0}, v_{I, 0}) = (0.2, 0.2)$.\n",
    "\n",
    "\n",
    "**[5 marks]**"
   ]
  },
  {
   "cell_type": "code",
   "execution_count": 81,
   "metadata": {},
   "outputs": [
    {
     "name": "stdout",
     "output_type": "stream",
     "text": [
      "When I = 0 values for resting state are: ( -1.1994080352440348 ) and ( -0.6242600440550438 )\n",
      "\n",
      "When I = 0.5 values for resting state are: ( -0.8048477470083343 ) and ( -0.1310596837604179 )\n",
      "\n"
     ]
    }
   ],
   "source": [
    "def resting_state(u0, v0, I, gamma, eps, beta):\n",
    "\n",
    "    def f(u, v, I): #Given f function\n",
    "\n",
    "        return (1 / eps) * (u - (u ** 3) / 3 - v + I)\n",
    "\n",
    "    def g(u, v, gamma): #Given g function\n",
    "\n",
    "        return  (u - gamma * v + beta) * eps\n",
    "\n",
    "    def F(u, v, I, gamma): #combine\n",
    "\n",
    "        return np.array([f(u, v, I), g(u, v, gamma)])\n",
    "    \n",
    "    def Jacobian(u, v): #jacobian matrix\n",
    "\n",
    "        J = np.zeros([2,2]) #Initialise an array \n",
    "\n",
    "        #fill it with the jacobian matrix\n",
    "        J[0, 0] = 1 / eps * (1 - u ** 2) #der f with respect to u\n",
    "        J[1, 0] = eps #der g with respect to u\n",
    "        J[0, 1] = -(1 / eps) #der f with respect to v\n",
    "        J[1, 1] = -eps * gamma #der g with respect to v\n",
    "        return J\n",
    "\n",
    "    x = np.array([u0, v0]) #Initial Guess\n",
    "    tol=1e-15 #low tolerance \n",
    "    while np.linalg.norm(F(x[0], x[1], I, gamma)) >= tol:\n",
    "        \n",
    "        # Newton iteration, tutorial 10 inspired\n",
    "        e = -np.linalg.solve(Jacobian(x[0], x[1]), F(x[0], x[1], I, gamma))\n",
    "        x += e\n",
    "        \n",
    "    return x\n",
    "\n",
    "#Print results\n",
    "print('When I = 0 values for resting state are: (',resting_state(0.2, 0.2, 0, 0.8, 0.2, 0.7)[0],') and (',resting_state(0.2, 0.2, 0, 0.8, 0.2, 0.7)[1],')')\n",
    "print()\n",
    "print('When I = 0.5 values for resting state are: (',resting_state(0.2, 0.2, 0.5, 0.8, 0.2, 0.7)[0],') and (',resting_state(0.2, 0.2, 0.5, 0.8, 0.2, 0.7)[1],')')\n",
    "print()"
   ]
  },
  {
   "cell_type": "markdown",
   "metadata": {},
   "source": [
    "**3.2** Using the method of your choice **\\***, compute the numerical solution $(u_n, v_n) \\approx (u(n\\Delta t), v(n\\Delta t)), n=0, 1, 2, \\dots$ for the FitzHugh-Nagumo model.\n",
    "\n",
    "You should compute the solution for both $I = 0$ and $I = 0.5$, starting at time $t = 0$ until at least $t = 100$, with $(u_0 = 0.8, v_0 = 0.8)$ as the initial condition.\n",
    "\n",
    "Present your results graphically by plotting\n",
    "\n",
    "(a) $u_n$ and $v_n$ with **time** (not time step) on the x-axis,  \n",
    "(b) $v_n$ as a function of $u_n$. This will show what we call the solution trajectories in *phase space*.\n",
    "\n",
    "You should format the plots so that the data presentation is clear and easy to understand.\n",
    "\n",
    "Given what this mathematical model describes, and given that $I$ represents a stimulus, how do you interpret your results for the two different values of $I$? Describe your observations in less than 200 words.\n",
    "\n",
    "\n",
    "**\\*** You may use e.g. the forward Euler method seen in Week 7 with a small enough time step, or use one of the functions provided by the `scipy.integrate` module, as seen in Quiz Q4.\n",
    "\n",
    "\n",
    "**[7 marks]**"
   ]
  },
  {
   "cell_type": "code",
   "execution_count": 67,
   "metadata": {},
   "outputs": [
    {
     "ename": "SyntaxError",
     "evalue": "invalid character in identifier (<ipython-input-67-6d2bd0f256d1>, line 9)",
     "output_type": "error",
     "traceback": [
      "\u001b[0;36m  File \u001b[0;32m\"<ipython-input-67-6d2bd0f256d1>\"\u001b[0;36m, line \u001b[0;32m9\u001b[0m\n\u001b[0;31m    deltax = (xf−x0)/(n−1)\u001b[0m\n\u001b[0m                  ^\u001b[0m\n\u001b[0;31mSyntaxError\u001b[0m\u001b[0;31m:\u001b[0m invalid character in identifier\n"
     ]
    }
   ],
   "source": [
    "import numpy as np\n",
    "from matplotlib import pyplot as plt\n",
    "\n",
    "x0 = 0.8\n",
    "y0 = 0.8\n",
    "xf = 10\n",
    "n = 101\n",
    "initial = np.array[(0.8,0.8)]\n",
    "deltax = (xf−x0)/(n−1)\n",
    "x = np.linspace(x0,xf,n)\n",
    "y = np. zeros ([n]) y[0] = y0\n",
    "for i in range(1,n):\n",
    "y[i] = deltax∗(−y[i−1] + np.sin(x[i−1])) + y[i−1]\n",
    "for i in range(n): print(x[ i ] ,y[ i ])\n",
    "    \n",
    "plt . plot(x,y, ’o’)\n",
    "plt.xlabel(”Value of x”)\n",
    "plt.ylabel(”Value of y”)\n",
    "plt.title(”Approximate Solution with Forward Euler’s Method”) plt .show()"
   ]
  },
  {
   "cell_type": "markdown",
   "metadata": {},
   "source": [
    "***📝 Discussion for question 3.2***"
   ]
  },
  {
   "cell_type": "markdown",
   "metadata": {},
   "source": [
    "**3.3** Compute the eigenvalues of the Jacobi matrix\n",
    "        \n",
    "$$\n",
    "\\large\n",
    "\\begin{pmatrix}\n",
    "    \\frac{\\partial f}{\\partial u} & \\frac{\\partial f}{\\partial v} \\\\ \n",
    "    \\frac{\\partial g}{\\partial u} & \\frac{\\partial g}{\\partial v}\n",
    "\\end{pmatrix}_{u = u_I^*, v = v_I^*}\n",
    "$$\n",
    "\n",
    "evaluated at the fixed points $u = u_I^*, v = v_I^*$, for $I = 0$ and $I = 0.5$. What do you observe?\n",
    "\n",
    "*You may use NumPy built-in functions to compute eigenvalues.*\n",
    "\n",
    "\n",
    "**[3 marks]**"
   ]
  },
  {
   "cell_type": "code",
   "execution_count": 82,
   "metadata": {},
   "outputs": [
    {
     "name": "stdout",
     "output_type": "stream",
     "text": [
      "\n",
      "When I = 0 eigenvalue = ( -1.3585719787774577 , -0.9943261962623214 )\n",
      "\n",
      "When I = 0.5 eigenvalue = ( (0.8005502603390207+0.27810644969622556j) , (0.8005502603390207-0.27810644969622556j) )\n"
     ]
    }
   ],
   "source": [
    "\n",
    "    \n",
    "# I = 0\n",
    "I_0 = Jacobian(resting_state(0.2, 0.2, 0, 0.8, 0.2, 0.7)[0], resting_state(0.2, 0.2, 0, 0.8, 0.2, 0.7)[1])\n",
    "eigenvalue_A = np.linalg.eig(I_0)[0] #Using numpy to compute\n",
    "\n",
    "# I = 0.5\n",
    "I_half = Jacobian(resting_state(0.2, 0.2, 0.5, 0.8, 0.2, 0.7)[0], resting_state(0.2, 0.2, 0.5, 0.8, 0.2, 0.7)[1])\n",
    "\n",
    "eigenvalue_B = np.linalg.eig(I_half)[0] #Using numpy to compute\n",
    "# Print results\n",
    "print()\n",
    "print('When I = 0 eigenvalue = (',eigenvalue_A[0],',',eigenvalue_A[1],')')\n",
    "print()\n",
    "print('When I = 0.5 eigenvalue = (',eigenvalue_B[0],',',eigenvalue_B[1],')')"
   ]
  },
  {
   "cell_type": "markdown",
   "metadata": {},
   "source": [
    "***📝 Discussion for question 3.3***\n",
    "\n",
    "The stability of typical equilibria of smooth ODEs is determined by the sign of real part of eigenvalues of the Jacobian matrix, an equilibrium is asymptotically stable if all eigenvalues have negative real parts; it is unstable if at least one eigenvalue has positive real part.\n",
    "\n",
    "In this case altough our first eigenvalue does have all negative real parts, our second eigenvalue does not. This means our equlibrium here is unstable "
   ]
  },
  {
   "cell_type": "markdown",
   "metadata": {},
   "source": [
    "**3.4** For this question, we set $I = 0$ and $\\gamma = 5$.\n",
    "\n",
    "(a) Use the function `resting_state()` you wrote for **3.1** to find three fixed points, $(u_{(0)}^*, v_{(0)}^*)$, $(u_{(1)}^*, v_{(1)}^*)$ and $(u_{(2)}^*, v_{(2)}^*)$, using the initial conditions provided in the NumPy array `uv0` below (each row of the array constitutes a pair of initial conditions for one of the three fixed points).\n",
    "\n",
    "(b) Compute the numerical solution $(u_n, v_n), n=0, 1, 2, \\dots$ using the initial condition $(u_{(0)}^* + \\delta, v_{(0)}^* + \\delta)$, for $\\delta \\in \\{0, 0.3, 0.6, 1.0\\}$. This simulates the activity of a cell starting at a small perturbation $\\delta$ of one of its resting states, in this case $(u_{(0)}^*, v_{(0)}^*)$.\n",
    "\n",
    "Plot your results in a similar way as in question **3.2**, and discuss your observations in less than 150 words. In particular, does the solution always return to the same fixed point, i.e. the same resting state?\n",
    "\n",
    "**[5 marks]**"
   ]
  },
  {
   "cell_type": "code",
   "execution_count": 83,
   "metadata": {},
   "outputs": [
    {
     "name": "stdout",
     "output_type": "stream",
     "text": [
      "First pair resulting fixed point = ( 1.4529016889173565 , 0.43058033778347127 )\n",
      "Second pair resulting fixed point = ( 0.17732319353744583 , 0.17546463870748916 )\n",
      "Third pair resulting fixed point = ( -1.6302248824548025 , -0.1860449764909605 )\n"
     ]
    }
   ],
   "source": [
    "import numpy as np\n",
    "\n",
    "# Initial conditions\n",
    "\n",
    "uv0 = np.array([[0.9, 0.6],[0., 0.4], [-1.7, -0.3]])\n",
    "#Part A)\n",
    "print('First pair resulting fixed point = (',resting_state(uv0[0,0], uv0[0,1], 0, 5, 0.2, 0.7)[0],',',resting_state(uv0[0,0], uv0[0,1], 0, 5, 0.2, 0.7)[1],')')\n",
    "print('Second pair resulting fixed point = (',resting_state(uv0[1,0], uv0[1,1], 0, 5, 0.2, 0.7)[0],',',resting_state(uv0[1,0], uv0[1,1], 0, 5, 0.2, 0.7)[1],')')\n",
    "print('Third pair resulting fixed point = (',resting_state(uv0[2,0], uv0[2,1], 0, 5, 0.2, 0.7)[0],',',resting_state(uv0[2,0], uv0[2,1], 0, 5, 0.2, 0.7)[1],')')"
   ]
  },
  {
   "cell_type": "markdown",
   "metadata": {},
   "source": [
    "***📝 Discussion for question 3.4***"
   ]
  }
 ],
 "metadata": {
  "kernelspec": {
   "display_name": "Python 3",
   "language": "python",
   "name": "python3"
  },
  "language_info": {
   "codemirror_mode": {
    "name": "ipython",
    "version": 3
   },
   "file_extension": ".py",
   "mimetype": "text/x-python",
   "name": "python",
   "nbconvert_exporter": "python",
   "pygments_lexer": "ipython3",
   "version": "3.7.6"
  }
 },
 "nbformat": 4,
 "nbformat_minor": 4
}
